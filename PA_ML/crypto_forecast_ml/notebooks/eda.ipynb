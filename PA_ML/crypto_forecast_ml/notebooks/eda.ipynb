{
 "cells": [
  {
   "metadata": {},
   "cell_type": "markdown",
   "source": [
    "# Exploratory Data Analysis for Crypto Forecasting\n",
    "\n",
    "This notebook is used for exploratory analysis and visualization of cryptocurrency data.\n"
   ],
   "id": "a3598892c9097ae8"
  },
  {
   "metadata": {},
   "cell_type": "code",
   "outputs": [],
   "execution_count": null,
   "source": [
    "# TODO: To be implemented by ChatGPT\n",
    "# Import necessary libraries\n",
    "import pandas as pd\n",
    "import numpy as np\n",
    "import matplotlib.pyplot as plt\n",
    "import seaborn as sns\n"
   ],
   "id": "fd237c2e8f5aae0c"
  },
  {
   "metadata": {},
   "cell_type": "markdown",
   "source": "## Data Loading\n",
   "id": "7a8fe7517ee86184"
  },
  {
   "metadata": {},
   "cell_type": "code",
   "outputs": [],
   "execution_count": null,
   "source": "# TODO: Load data from BigQuery\n",
   "id": "66b57099c0635002"
  },
  {
   "metadata": {},
   "cell_type": "markdown",
   "source": "## Data Exploration\n",
   "id": "66080daae35bac06"
  },
  {
   "metadata": {},
   "cell_type": "code",
   "outputs": [],
   "execution_count": null,
   "source": "# TODO: Explore data",
   "id": "c3aefd624d4b20b4"
  }
 ],
 "metadata": {},
 "nbformat": 4,
 "nbformat_minor": 5
}
